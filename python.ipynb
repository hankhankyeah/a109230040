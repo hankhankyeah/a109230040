{
 "cells": [
  {
   "cell_type": "code",
   "execution_count": null,
   "metadata": {},
   "outputs": [],
   "source": [
    "#第一章\n",
    "# 1.\n",
    "print(5/9*(100-32))"
   ]
  },
  {
   "cell_type": "code",
   "execution_count": null,
   "metadata": {},
   "outputs": [],
   "source": [
    "# 2.\n",
    "print(90*0.305)"
   ]
  },
  {
   "cell_type": "code",
   "execution_count": null,
   "metadata": {},
   "outputs": [],
   "source": [
    "# 3.\n",
    "# (a) \n",
    "print('Hello,Python')"
   ]
  },
  {
   "cell_type": "code",
   "execution_count": null,
   "metadata": {},
   "outputs": [],
   "source": [
    "# (b)\n",
    "print('Hello,Python')"
   ]
  },
  {
   "cell_type": "code",
   "execution_count": null,
   "metadata": {},
   "outputs": [],
   "source": [
    "# (c)\n",
    "#Convert Fahrenheit to Ceisius\n",
    "print('Fahrenheit 212 is Celsius degree')\n",
    "print(5/9*(212-32))"
   ]
  },
  {
   "cell_type": "code",
   "execution_count": null,
   "metadata": {},
   "outputs": [],
   "source": [
    "# (d)\n",
    "print('learning python now!')\n",
    "print('python is fun')\n",
    "print('python is a good programming language')"
   ]
  },
  {
   "cell_type": "code",
   "execution_count": null,
   "metadata": {},
   "outputs": [],
   "source": [
    "# (e)\n",
    "#我的第一個python程式\n",
    "print(\"python is fun!\")\n",
    "print(\"learning python now!\")"
   ]
  },
  {
   "cell_type": "code",
   "execution_count": null,
   "metadata": {},
   "outputs": [],
   "source": [
    "#第二章\n",
    "# 1.\n",
    "# (a)\n",
    "print('|%10d %9d %9d|'%(12345,12,1234567))\n",
    "print('|%10d %9d %9d|'%(12,1234567,123))\n",
    "print('|%10d %9d %9d|'%(1234567,123,12345))"
   ]
  },
  {
   "cell_type": "code",
   "execution_count": null,
   "metadata": {},
   "outputs": [],
   "source": [
    "# (b)\n",
    "print(format('Department','12s'))\n",
    "print(format('of','12s'))\n",
    "print(format('Computer','12s'))\n",
    "print(format('Science','12s'))"
   ]
  },
  {
   "cell_type": "code",
   "execution_count": null,
   "metadata": {},
   "outputs": [],
   "source": [
    "# (c)\n",
    "print(format('Department','>12s'))\n",
    "print(format('of','>12s'))\n",
    "print(format('Computer','>12s'))\n",
    "print(format('Science','>12s'))"
   ]
  },
  {
   "cell_type": "code",
   "execution_count": null,
   "metadata": {},
   "outputs": [],
   "source": [
    "# (d)\n",
    "print(format(123.456,'10.2f'))\n",
    "print(format(12345.678,'10.2f'))"
   ]
  },
  {
   "cell_type": "code",
   "execution_count": null,
   "metadata": {},
   "outputs": [],
   "source": [
    "# (e)\n",
    "print('i=%d'%(100))\n",
    "print('i=%d,j=%d'%(100,200))"
   ]
  },
  {
   "cell_type": "code",
   "execution_count": null,
   "metadata": {},
   "outputs": [],
   "source": [
    "# (f)\n",
    "print('price:$ %8.2f'%(356.08977))\n",
    "print('%10.2f %10.2f'%(123.456,345.789))\n",
    "print('%-10.2f%5d'%(123.456,100))\n",
    "print('radius=%d,area=%7.2f'%(5,5*5*3.14159))\n",
    "print('Radius:{a:3d},Area:{b:10.2f}'.format(a=5,b=5*5*3.14159))"
   ]
  },
  {
   "cell_type": "code",
   "execution_count": null,
   "metadata": {},
   "outputs": [],
   "source": [
    "# (g)\n",
    "print('%.2f degree Celsius in Fahrenheit \\ is %.2f'%(3.25,3.25*1.8+32))\n",
    "print('%.2f degree Fahrenheit in Celsius \\ is %.2f'%(94.5,(94.5-32/1.8)))\n"
   ]
  },
  {
   "cell_type": "code",
   "execution_count": null,
   "metadata": {},
   "outputs": [],
   "source": [
    "# (h)\n",
    "print('%-15s %-10s'%('mouth','amount'))\n",
    "print('%-15s %-10.2f'%(1,43400.2))\n",
    "print('%-15s %-10.2f'%(2,45430.28))\n",
    "print('%-15s %-10.2f'%(3,48030.48))\n",
    "print('%-15s %-10.2f'%(4,51112.96))\n",
    "print('%-15s %-10.2f'%(5,52857.2))\n"
   ]
  },
  {
   "cell_type": "code",
   "execution_count": null,
   "metadata": {},
   "outputs": [],
   "source": [
    "# 2.\n",
    "print('|%10d %9d %9d|'%(12345,12,1234567))\n",
    "print('Raidius:{a:3d},Area:{b:10.2f}'.format(a=5,b=5*3.14159))\n",
    "print(format(123.456,'10.2f'))\n",
    "print('%-15d %-10.2f'%(1,43400.2))\n",
    "print('x:{a:5d},y:{b:7d}'.format(a=123,b=12345))"
   ]
  },
  {
   "cell_type": "code",
   "execution_count": null,
   "metadata": {
    "scrolled": true
   },
   "outputs": [],
   "source": [
    "# 3.\n",
    "#Using format\n",
    "print(format(123,'4d'),format(45,'3d'))\n",
    "print(format(123456,'10d'),format(78901,'10d'))\n",
    "\n",
    "#Using .format\n",
    "print('x={0:^7d},y={1:5d}'.format(123,45))\n",
    "print('x={a:<100d},y={v:6d}'.format(a=123456,v=78901))\n",
    "\n",
    "#Using %\n",
    "print('%10d%25d'%(123,45))\n",
    "print('%24d %33d'%(123456,78901))"
   ]
  },
  {
   "cell_type": "code",
   "execution_count": null,
   "metadata": {},
   "outputs": [],
   "source": [
    "# 4.\n",
    "print('x={a:6d},y={v:6d}'.format(a=222,v=666))\n",
    "print('x={a:<6d},y={v:<6d}'.format(a=222,v=666))"
   ]
  },
  {
   "cell_type": "code",
   "execution_count": null,
   "metadata": {},
   "outputs": [],
   "source": [
    "# 第三章\n",
    "# 1.\n",
    "# (a)\n",
    "a=100\n",
    "b=200\n",
    "c,d=a,b\n",
    "print(c,d)\n",
    "print(c)\n",
    "print(d)\n",
    "print()"
   ]
  },
  {
   "cell_type": "code",
   "execution_count": null,
   "metadata": {},
   "outputs": [],
   "source": [
    "# (b)\n",
    "a=100\n",
    "b=200\n",
    "c,d=a,b\n",
    "print(c,d)\n",
    "print(c,end=' ')\n",
    "print(d,end='***')\n",
    "print('Over')"
   ]
  },
  {
   "cell_type": "code",
   "execution_count": null,
   "metadata": {},
   "outputs": [],
   "source": [
    "# (c)\n",
    "a=100\n",
    "b=200\n",
    "c,d=a,b\n",
    "print(c,d)\n",
    "print(c,end='$')\n",
    "print('and')\n",
    "print(d,end='***')\n",
    "print('Over')"
   ]
  },
  {
   "cell_type": "code",
   "execution_count": null,
   "metadata": {},
   "outputs": [],
   "source": [
    "# 2.\n",
    "# (a)\n",
    "x=100\n",
    "y=3\n",
    "print(x*y)\n",
    "print(x/y)\n",
    "print(x//y)\n",
    "print(x%y)\n",
    "print(x**y)\n",
    "print(x**0.5)\n"
   ]
  },
  {
   "cell_type": "code",
   "execution_count": null,
   "metadata": {},
   "outputs": [],
   "source": [
    "# (b)\n",
    "str1='hello'\n",
    "str2='python'\n",
    "str3=str1+str2\n",
    "print(str3)\n",
    "a=100\n",
    "b=200\n",
    "c=a+b\n",
    "print(c)"
   ]
  },
  {
   "cell_type": "code",
   "execution_count": null,
   "metadata": {},
   "outputs": [],
   "source": [
    "# (c)\n",
    "str1='hello,'+\\\n",
    "    'python,let\\'s learning '\n",
    "str2=\"python now\"\n",
    "str3=str1+str2\n",
    "print(str3)"
   ]
  },
  {
   "cell_type": "code",
   "execution_count": null,
   "metadata": {},
   "outputs": [],
   "source": [
    "# 3.\n",
    "# (a)\n",
    "a=100\n",
    "b=3\n",
    "a//=b\n",
    "print(a)\n",
    "\n",
    "a=100\n",
    "a%=b\n",
    "print(a)\n",
    "\n",
    "a=100\n",
    "a/=b\n",
    "print(a)"
   ]
  },
  {
   "cell_type": "code",
   "execution_count": null,
   "metadata": {},
   "outputs": [],
   "source": [
    "# (b)\n",
    "a=100\n",
    "b=200\n",
    "print(a,b)\n",
    "\n",
    "b,a=a,b\n",
    "print(a,b)"
   ]
  },
  {
   "cell_type": "code",
   "execution_count": null,
   "metadata": {},
   "outputs": [],
   "source": [
    "# (c)\n",
    "a=100\n",
    "b=200\n",
    "b,a=a,b\n",
    "\n",
    "temp=a\n",
    "a=b\n",
    "b=temp\n",
    "print(a,b)"
   ]
  },
  {
   "cell_type": "code",
   "execution_count": null,
   "metadata": {},
   "outputs": [],
   "source": [
    "# 4.\n",
    "a=eval(input('Enter an integer:'))\n",
    "b=a+100\n",
    "print(a,b)\n",
    "\n",
    "str1=input('enter an string:')\n",
    "str2=str1+\"i8\"\n",
    "print(str2)"
   ]
  },
  {
   "cell_type": "code",
   "execution_count": null,
   "metadata": {},
   "outputs": [],
   "source": [
    "# 5.\n",
    "# (a)\n",
    "str1='hello,'+\\\n",
    "    'python,let\\'s learning '\n",
    "str2=\"python now\"\n",
    "str3=str1+str2\n",
    "print(str3)\n"
   ]
  },
  {
   "cell_type": "code",
   "execution_count": null,
   "metadata": {},
   "outputs": [],
   "source": [
    "# (b)\n",
    "#Convert Fahreheit to Ceisius\n",
    "print('Fahrneheit 212 is Ceisius degree')\n",
    "print(5/9*(212-32))"
   ]
  },
  {
   "cell_type": "code",
   "execution_count": null,
   "metadata": {},
   "outputs": [],
   "source": [
    "# (c)\n",
    "a=100\n",
    "b=200\n",
    "print(a,b)\n",
    "\n",
    "temp=a\n",
    "a=b\n",
    "b=temp\n",
    "print(a,b)\n"
   ]
  },
  {
   "cell_type": "code",
   "execution_count": null,
   "metadata": {},
   "outputs": [],
   "source": [
    "# (d)\n",
    "a=eval(input('enter an intager:'))\n",
    "b=a+100\n",
    "print(a,b)"
   ]
  },
  {
   "cell_type": "code",
   "execution_count": null,
   "metadata": {},
   "outputs": [],
   "source": [
    "# (e)\n",
    "a=eval(input('enter an intager:'))\n",
    "b=a+100\n",
    "print(a,b)"
   ]
  },
  {
   "cell_type": "code",
   "execution_count": null,
   "metadata": {},
   "outputs": [],
   "source": [
    "# (f)\n",
    "#Display two messages\n",
    "a=100\n",
    "b=200\n",
    "print(a,b)\n"
   ]
  },
  {
   "cell_type": "code",
   "execution_count": null,
   "metadata": {},
   "outputs": [],
   "source": [
    "# 6.\n",
    "print(41/5)\n",
    "print(41//5)\n",
    "print(41%5)\n",
    "print(1%2)\n",
    "print(35%3)\n",
    "print(45+34%3*(21*3%2))\n",
    "print(6**3-21)\n",
    "print(100**0.5*2-29)"
   ]
  },
  {
   "cell_type": "code",
   "execution_count": null,
   "metadata": {},
   "outputs": [],
   "source": [
    "# 7.\n",
    "a=10\n",
    "a+=3\n",
    "print(a)\n",
    "\n",
    "a=10\n",
    "a*=3\n",
    "print(a)\n",
    "\n",
    "a=10\n",
    "a/=3\n",
    "print(a)\n",
    "\n",
    "a=10\n",
    "a//=3\n",
    "print(a)\n",
    "\n",
    "a=10\n",
    "a%=3\n",
    "print(a)\n"
   ]
  },
  {
   "cell_type": "code",
   "execution_count": null,
   "metadata": {},
   "outputs": [],
   "source": [
    "# 8.\n",
    "#output 1\n",
    "print(1,end=' ')\n",
    "print(22,end='*****')\n",
    "print(333)\n",
    "print()\n",
    "#output 2\n",
    "print(1,end='$')\n",
    "print(22,end='@@@@@')\n",
    "print(333)\n",
    "print('Over')"
   ]
  },
  {
   "cell_type": "code",
   "execution_count": null,
   "metadata": {},
   "outputs": [],
   "source": [
    "# 9.\n",
    "a=eval(input('enter an intager:'))\n",
    "b=eval(input('enter an intager:'))\n",
    "c=eval(input('enter an intager:'))\n",
    "d=eval(input('enter an intager:'))\n",
    "e=eval(input('enter an intager:'))\n",
    "print(a,b,c,d,e)\n",
    "sum=a+b+c+d+e\n",
    "print('Sum =',sum)\n",
    "average=sum/5\n",
    "print('Average =',average)\n"
   ]
  },
  {
   "cell_type": "code",
   "execution_count": null,
   "metadata": {},
   "outputs": [],
   "source": [
    "# 10.\n",
    "num1,num2,num3,num4,num5=eval(input('enter five numbers separated by commas:'))\n",
    "x=num1+num2+num3+num4+num5\n",
    "print(num1,num2,num3,num4,num5)\n",
    "print('Sum =',x)\n",
    "print('Average =',x/5)"
   ]
  },
  {
   "cell_type": "code",
   "execution_count": null,
   "metadata": {},
   "outputs": [],
   "source": [
    "#第四章\n",
    "# 1.\n",
    "# (a)\n",
    "a=-888\n",
    "b=100\n",
    "c=10\n",
    "d=2\n",
    "e=0.5\n",
    "print(abs(a))\n",
    "print(max(a,b,c,d,e))\n",
    "print(min(a,b,c,d,e))\n",
    "print(pow(c,d))\n",
    "print(round(7.5))\n",
    "print(round(6.5))\n",
    "print(int(13.456))\n",
    "print(round(123.456,2))"
   ]
  },
  {
   "cell_type": "code",
   "execution_count": null,
   "metadata": {},
   "outputs": [],
   "source": [
    "# (b)\n",
    "import math\n",
    "a=math.fabs(-123.45)\n",
    "print(a)\n",
    "\n",
    "b=math.ceil(8.8)\n",
    "print(b)\n",
    "\n",
    "c=math.floor(8.8)\n",
    "print(c)\n",
    "\n",
    "d=math.exp(1)\n",
    "print(d)\n",
    "\n",
    "e=math.log(100)\n",
    "print(e)\n",
    "\n",
    "f=math.log(100,10)\n",
    "print(f)\n",
    "\n",
    "g=math.sqrt(1000000)\n",
    "print(g)"
   ]
  },
  {
   "cell_type": "code",
   "execution_count": null,
   "metadata": {},
   "outputs": [],
   "source": [
    "# (c)\n",
    "m=math.tan(0)\n",
    "print(m)\n",
    "\n",
    "n=math.tan(2*math.pi)\n",
    "print(n)\n",
    "\n",
    "p=math.degrees(2*math.pi)\n",
    "print(p)\n",
    "\n",
    "q=math.radians(360)\n",
    "print(q)\n"
   ]
  },
  {
   "cell_type": "code",
   "execution_count": null,
   "metadata": {},
   "outputs": [],
   "source": [
    "# (d)\n",
    "x='Apple i'+str(8)\n",
    "print(x)\n",
    "\n",
    "y=ord('Z')\n",
    "print(y)\n",
    "\n",
    "z=chr(100)\n",
    "print(z)\n"
   ]
  },
  {
   "cell_type": "code",
   "execution_count": null,
   "metadata": {},
   "outputs": [],
   "source": [
    "# 2.\n",
    "f1=math.log(10000,10)\n",
    "print(f1)\n",
    "\n",
    "g1=math.sqrt(10000)\n",
    "print(g1)\n",
    "\n",
    "h1=math.tan(0)\n",
    "print(h1)\n",
    "\n",
    "p1=max(1,2,4,78,300)\n",
    "print(p1)\n",
    "\n",
    "q1=abs(-101)\n",
    "print(q1)\n",
    "\n",
    "r1=chr(97)\n",
    "print(r1)"
   ]
  },
  {
   "cell_type": "code",
   "execution_count": null,
   "metadata": {},
   "outputs": [],
   "source": [
    "#第五章\n",
    "# 1.\n",
    "# (a)\n",
    "score=eval(input('entry your score:'))\n",
    "if score>=60:\n",
    "    score+=10\n",
    "print('your score is %d'%(score))"
   ]
  },
  {
   "cell_type": "code",
   "execution_count": null,
   "metadata": {},
   "outputs": [],
   "source": [
    "# (b)\n",
    "score=eval(input('entry your score:'))\n",
    "if score>=60:\n",
    "    score+=10\n",
    "else:\n",
    "    score+=8\n",
    "print('your score is %d'%(score))"
   ]
  },
  {
   "cell_type": "code",
   "execution_count": null,
   "metadata": {},
   "outputs": [],
   "source": [
    "# (c)\n",
    "temperature=eval(input('enter temperature today:'))\n",
    "if temperature >=28:\n",
    "    print('hot')\n",
    "else:\n",
    "    print('comfortable')\n",
    "print(\"over\")\n"
   ]
  },
  {
   "cell_type": "code",
   "execution_count": null,
   "metadata": {},
   "outputs": [],
   "source": [
    "# (d)\n",
    "temperature=eval(input('enter temperature today:'))\n",
    "if temperature >=28:\n",
    "    print('hot')\n",
    "elif temperature >=22:\n",
    "    print('comfortable')\n",
    "else:\n",
    "    print(\"cold\")\n",
    "print(\"over\")\n"
   ]
  },
  {
   "cell_type": "code",
   "execution_count": null,
   "metadata": {},
   "outputs": [],
   "source": [
    "# (e)\n",
    "temperature=eval(input('enter temperature today:'))\n",
    "humility=eval(input('enter humility today:'))\n",
    "if temperature >=28:\n",
    "    print('hot')\n",
    "elif temperature >=22 and humility>=40 and humility <=50:\n",
    "    print('comfortable')\n",
    "else:\n",
    "    print(\"cold\")\n",
    "print(\"over\")\n"
   ]
  },
  {
   "cell_type": "code",
   "execution_count": null,
   "metadata": {},
   "outputs": [],
   "source": [
    "# (f)\n",
    "char=input('enter a character:')\n",
    "if char>=\"a\" and char<=\"z\":\n",
    "    print('%c is lowercase character'%(char))\n",
    "elif char>=\"A\" and char<=\"Z\":\n",
    "    print(\"%c is uppercase character\"%(char))\n",
    "else:\n",
    "    print(\"%s is other character\"%(char))"
   ]
  },
  {
   "cell_type": "code",
   "execution_count": null,
   "metadata": {},
   "outputs": [],
   "source": [
    "# (g)\n",
    "num=eval(input('enter a number:'))\n",
    "if num%2==0:\n",
    "    print(\"%d\"%(num),end='')\n",
    "    print(\" is even number.\")\n",
    "else:\n",
    "    print('%d'%(num),end='')\n",
    "    print(\" is odd number.\")\n",
    "print(\"test is over\")\n",
    "    "
   ]
  },
  {
   "cell_type": "code",
   "execution_count": null,
   "metadata": {},
   "outputs": [],
   "source": [
    "# 2.\n",
    "# (a)\n",
    "radius=eval(input('please input radius:'))\n",
    "area=radius*radius*3.14158\n",
    "if radius==0:\n",
    "    print(\"negative is not invalid!!!\")\n",
    "else:\n",
    "    print(\"radius =\",radius)\n",
    "    print(\"area =\",area)"
   ]
  },
  {
   "cell_type": "code",
   "execution_count": null,
   "metadata": {},
   "outputs": [],
   "source": [
    "# (b)\n",
    "temperature=eval(input('enter temperature today:'))\n",
    "if temperature >=28:\n",
    "    print(\"hot\")\n",
    "elif temperature >=22:\n",
    "    print(\"comfortable\")\n",
    "else:\n",
    "    print(\"cold\")\n",
    "print('Over')\n"
   ]
  },
  {
   "cell_type": "code",
   "execution_count": null,
   "metadata": {},
   "outputs": [],
   "source": [
    "# (c)\n",
    "score=eval(input(\"enter your score:\"))\n",
    "if score>=60:\n",
    "    score+=10\n",
    "else:\n",
    "    score+=8\n",
    "print(\"your score is %d\"%(score))\n",
    "    "
   ]
  },
  {
   "cell_type": "code",
   "execution_count": null,
   "metadata": {},
   "outputs": [],
   "source": [
    "# (d)\n",
    "temperature=eval(input('enter temperature today:'))\n",
    "humility=eval(input('enter humility today:'))\n",
    "if temperature >=28:\n",
    "    print('hot')\n",
    "elif temperature >=22 and humility>=40 and humility <=50:\n",
    "    print('comfortable')\n",
    "else:\n",
    "    print(\"cold\")\n",
    "print(\"over\")\n"
   ]
  },
  {
   "cell_type": "code",
   "execution_count": null,
   "metadata": {},
   "outputs": [],
   "source": [
    "# (e)\n",
    "year=eval(input(\"please input what year ?\"))\n",
    "if year%400==0 or (year%4==0 and year%100!=0):\n",
    "    print(year,\"is leap year\")\n",
    "else:\n",
    "    print(year,\"is not leap year\")"
   ]
  },
  {
   "cell_type": "code",
   "execution_count": null,
   "metadata": {},
   "outputs": [],
   "source": [
    "# (f)\n",
    "char=input('enter a character:')\n",
    "if char>='a' and char<='z':\n",
    "    print('%c is lowercase character'%(char))\n",
    "elif char >='A' and char<='Z':\n",
    "    print('%c is uppercase character'%(char))\n",
    "else:\n",
    "    print(\"%s is other character\"%(char))"
   ]
  },
  {
   "cell_type": "code",
   "execution_count": null,
   "metadata": {},
   "outputs": [],
   "source": [
    "# (g)\n",
    "num=eval(input(\"enter a number:\"))\n",
    "if num%2==0:\n",
    "    print('%d'%(num),end='')\n",
    "    print(\" is even number.\")\n",
    "else:\n",
    "    print(\"%d\"%(num),end='')\n",
    "    print(\" is odd number.\")\n",
    "print(\"tese is over\")"
   ]
  },
  {
   "cell_type": "code",
   "execution_count": null,
   "metadata": {},
   "outputs": [],
   "source": [
    "# 2.\n",
    "# (a)\n",
    "radius=eval(input('please input radius:'))\n",
    "area=radius*radius*3.14158\n",
    "if radius==0:\n",
    "    print(\"negative is not invalid!!!\")\n",
    "else:\n",
    "    print(\"radius =\",radius)\n",
    "    print(\"area =\",area)"
   ]
  },
  {
   "cell_type": "code",
   "execution_count": null,
   "metadata": {},
   "outputs": [],
   "source": [
    "# (b)\n",
    "temperature=eval(input(\"enter temperature today:\"))\n",
    "if temperature >=28:\n",
    "    print(\"hot\")\n",
    "elif temperature >=22:\n",
    "    print(\"comfortable\")\n",
    "else:\n",
    "    print(\"cold\")\n",
    "print(\"over\")"
   ]
  },
  {
   "cell_type": "code",
   "execution_count": null,
   "metadata": {},
   "outputs": [],
   "source": [
    "# (c)\n",
    "score=eval(input('enter your score:'))\n",
    "if score>=60:\n",
    "    score+=10\n",
    "else:\n",
    "    score+=8\n",
    "print('your score is %d'%(score))\n"
   ]
  },
  {
   "cell_type": "code",
   "execution_count": null,
   "metadata": {},
   "outputs": [],
   "source": [
    "# (d)\n",
    "temperature=eval(input('enter temperature today:'))\n",
    "humility=eval(input('enter humility today:'))\n",
    "if temperature >=28:\n",
    "    print('Hot')\n",
    "elif temperature >=22 and humility>=40 and humility <=50:\n",
    "    print('Comfortable')\n",
    "else:\n",
    "    print(\"Cold\")\n",
    "print(\"Over\")"
   ]
  },
  {
   "cell_type": "code",
   "execution_count": null,
   "metadata": {},
   "outputs": [],
   "source": [
    "# (e)\n",
    "year=eval(input(\"please input what year ?\"))\n",
    "if year%400==0 or (year%4==0 and year%100!=0):\n",
    "    print(year,\"is leap year\")\n",
    "else:\n",
    "    print(year,\"is not leap year\")"
   ]
  },
  {
   "cell_type": "code",
   "execution_count": null,
   "metadata": {},
   "outputs": [],
   "source": [
    "# (f)\n",
    "char=input('enter a character:')\n",
    "if char>='a' and char<='z':\n",
    "    print('%c is lowercase character'%(char))\n",
    "elif char >='A' and char<='Z':\n",
    "    print('%c is uppercase character'%(char))\n",
    "else:\n",
    "    print(\"%s is other character\"%(char))"
   ]
  },
  {
   "cell_type": "code",
   "execution_count": null,
   "metadata": {},
   "outputs": [],
   "source": [
    "# (g)\n",
    "num=eval(input(\"enter a number:\"))\n",
    "if num%2==0:\n",
    "    print('%d'%(num),end='')\n",
    "    print(\" is even number.\")\n",
    "else:\n",
    "    print(\"%d\"%(num),end='')\n",
    "    print(\" is odd number.\")\n",
    "print(\"tese is over\")"
   ]
  },
  {
   "cell_type": "code",
   "execution_count": null,
   "metadata": {},
   "outputs": [],
   "source": [
    "# 3.\n",
    "a=eval(input(\"enter a number:\"))\n",
    "b=eval(input(\"enter a number:\"))\n",
    "if a>b:\n",
    "    print(\"a is bigger than b\")\n",
    "elif a<b:\n",
    "    print(\"a is smaller than b\")\n",
    "else:\n",
    "    print(\"a = b\")"
   ]
  },
  {
   "cell_type": "code",
   "execution_count": null,
   "metadata": {},
   "outputs": [],
   "source": [
    "# 4.\n",
    "x=eval(input(\"enter a number:\"))\n",
    "if x%3==0 and x%5==0:\n",
    "    print(\"yes\")\n",
    "else:\n",
    "    print(\"no\")"
   ]
  },
  {
   "cell_type": "code",
   "execution_count": null,
   "metadata": {},
   "outputs": [],
   "source": [
    "# 5.\n",
    "y=eval(input('輸入一個分子'))\n",
    "z=eval(input('輸入一個分母'))\n",
    "ans=y/z\n",
    "if z==0:\n",
    "    print(\"分母不可為0\")\n",
    "else:\n",
    "    print(ans)"
   ]
  },
  {
   "cell_type": "code",
   "execution_count": null,
   "metadata": {},
   "outputs": [],
   "source": [
    "# 6.\n",
    "a=eval(input('銷售金額'))\n",
    "if a<5000:\n",
    "    print('薪水:',6000+(a*0.1))\n",
    "elif a<=10000:\n",
    "    print('薪水:',6000+(a*0.12))\n",
    "elif a<=15000:\n",
    "    print('薪水:',6000+(a*0.14))\n",
    "else:\n",
    "    print('薪水:',6000+(a*0.16))"
   ]
  },
  {
   "cell_type": "code",
   "execution_count": null,
   "metadata": {},
   "outputs": [],
   "source": [
    "# 7.\n",
    "a=input('enter a number:')\n",
    "if a==a[::-1]:\n",
    "    print(a,\"is palindrome number\")\n",
    "else:\n",
    "    print(a,\"is not palindrome number\")"
   ]
  },
  {
   "cell_type": "code",
   "execution_count": null,
   "metadata": {},
   "outputs": [],
   "source": [
    "# 8.\n",
    "x,y=eval(input('輸入(x,y)座標:'))\n",
    "if x**2+y**2<8**2:\n",
    "    print('(',x,',',y,')','在圓內')\n",
    "else:\n",
    "    print('(',x,',',y,')','在圓外')"
   ]
  },
  {
   "cell_type": "code",
   "execution_count": null,
   "metadata": {},
   "outputs": [],
   "source": [
    "# 9.\n",
    "import math\n",
    "s=eval(input(\"輸入邊長\"))\n",
    "ans=5*(s**2)/(4*math.tan(math.pi/5))\n",
    "if s>0:\n",
    "    print(\"此正五邊形面積 =\",ans)\n",
    "else:\n",
    "    print(\"無效的邊長\")"
   ]
  },
  {
   "cell_type": "code",
   "execution_count": null,
   "metadata": {},
   "outputs": [],
   "source": [
    "# 10.\n",
    "print('(1)小柯 (2)小姚 (3)小丁 (4)路人甲')\n",
    "num=eval(input('請輸入理想的候選人  '))\n",
    "if num==1:\n",
    "    print(\"(1)小柯\")\n",
    "elif num==2:\n",
    "    print('(2)小姚')\n",
    "elif num==3:\n",
    "    print('(3)小丁')\n",
    "elif num==4:\n",
    "    print('(4)路人甲')\n",
    "else:\n",
    "    print(\"無效\")"
   ]
  },
  {
   "cell_type": "code",
   "execution_count": null,
   "metadata": {},
   "outputs": [],
   "source": [
    "#第六章\n",
    "# 1.\n",
    "# (a)\n",
    "fivemulti=0\n",
    "k=5\n",
    "while k<=100:\n",
    "    fivemulti+=k\n",
    "    k+=5\n",
    "print(fivemulti)"
   ]
  },
  {
   "cell_type": "code",
   "execution_count": null,
   "metadata": {},
   "outputs": [],
   "source": [
    "# (b)\n",
    "for i in range(10):\n",
    "    print(i, end=' ')\n",
    "print('')\n",
    "\n",
    "for i in range(2,10):\n",
    "    print(i, end=' ')\n",
    "print('')\n",
    "\n",
    "for i in range(1,10,2):\n",
    "    print(i, end=' ')\n",
    "print('')\n",
    "\n",
    "for i in range(9,1,-2):\n",
    "    print(i, end=' ')\n",
    "print('')\n"
   ]
  },
  {
   "cell_type": "code",
   "execution_count": null,
   "metadata": {},
   "outputs": [],
   "source": [
    "# (c)\n",
    "for i in range(10):\n",
    "    print('%3d'%(i),end=' ')\n",
    "print('')\n",
    "\n",
    "for i in range(2,10):\n",
    "    print('%3d'%(i),end=' ')\n",
    "print('')\n",
    "\n",
    "for i in range(1,10,2):\n",
    "    print('%3d'%(i),end=' ')\n",
    "print('')\n",
    "\n",
    "for i in range(9,1,-2):\n",
    "    print('%3d'%(i),end=' ')\n",
    "print('')"
   ]
  },
  {
   "cell_type": "code",
   "execution_count": null,
   "metadata": {},
   "outputs": [],
   "source": [
    "# (d)\n",
    "total=0\n",
    "num=0\n",
    "while True:\n",
    "    num+=1\n",
    "    total+=num\n",
    "    if total>=5050:\n",
    "        break\n",
    "print('1+2+3+...+%d=%d'%(num,total))"
   ]
  },
  {
   "cell_type": "code",
   "execution_count": null,
   "metadata": {},
   "outputs": [],
   "source": [
    "# (e)\n",
    "total=0\n",
    "num=1\n",
    "while num<=100:\n",
    "    if num%2==0:\n",
    "        num+=1\n",
    "        continue\n",
    "    total+=num\n",
    "    num+=1\n",
    "print('1+2+3+...+99 =',total)\n"
   ]
  },
  {
   "cell_type": "code",
   "execution_count": null,
   "metadata": {},
   "outputs": [],
   "source": [
    "# (f)\n",
    "total=0\n",
    "for i in range(1,101):\n",
    "    if i%2==1:\n",
    "        total+=i\n",
    "    else:\n",
    "        continue\n",
    "print('1+2+3+...+99 =',total)"
   ]
  },
  {
   "cell_type": "code",
   "execution_count": null,
   "metadata": {},
   "outputs": [],
   "source": [
    "# (g)\n",
    "for i in range(10):\n",
    "    for j in range(10):\n",
    "        print('*',end='')\n",
    "    print('')"
   ]
  },
  {
   "cell_type": "code",
   "execution_count": null,
   "metadata": {},
   "outputs": [],
   "source": [
    "# (h)\n",
    "for i in range(9):\n",
    "    for j in range(i):\n",
    "        print('*',end='')\n",
    "print('')"
   ]
  },
  {
   "cell_type": "code",
   "execution_count": null,
   "metadata": {},
   "outputs": [],
   "source": [
    "# 2.\n",
    "# (a)\n",
    "total = 0\n",
    "i = 1\n",
    "while i <= 100:\n",
    "    i += 1\n",
    "    total += i\n",
    "print('total = %d'%total)\n",
    "    "
   ]
  },
  {
   "cell_type": "code",
   "execution_count": null,
   "metadata": {},
   "outputs": [],
   "source": [
    "# (b)\n",
    "total = 0\n",
    "i = 1\n",
    "while i < 100:\n",
    "    total += i\n",
    "    i += 1\n",
    "print('total = %d'%total)"
   ]
  },
  {
   "cell_type": "code",
   "execution_count": null,
   "metadata": {},
   "outputs": [],
   "source": [
    "# (c)\n",
    "i = 8\n",
    "while i >=1:\n",
    "    j=1\n",
    "    while j <= i:\n",
    "        print('%2d'%(j), end = '')\n",
    "        j += 1\n",
    "    print()\n",
    "    i -= 1\n",
    "print()"
   ]
  },
  {
   "cell_type": "code",
   "execution_count": null,
   "metadata": {},
   "outputs": [],
   "source": [
    "# 3.\n",
    "# (a)\n",
    "fivemulti=0\n",
    "k=10\n",
    "while k<=100:\n",
    "    fivemulti+=k\n",
    "    k+=10\n",
    "print(fivemulti)"
   ]
  },
  {
   "cell_type": "code",
   "execution_count": null,
   "metadata": {},
   "outputs": [],
   "source": [
    "# (b)\n",
    "fivemulti=0\n",
    "k=10\n",
    "while k <= 100:\n",
    "    fivemulti += k\n",
    "    k+=5\n",
    "print(fivemulti)"
   ]
  },
  {
   "cell_type": "code",
   "execution_count": null,
   "metadata": {},
   "outputs": [],
   "source": [
    "# (c)\n",
    "num=0\n",
    "total=0\n",
    "while True:\n",
    "    num+=1\n",
    "    total+=num\n",
    "    if total>=5050:\n",
    "        break\n",
    "print('1+2+3+...+%d=%d'%(num,total))"
   ]
  },
  {
   "cell_type": "code",
   "execution_count": null,
   "metadata": {},
   "outputs": [],
   "source": [
    "# (d)\n",
    "total = 0\n",
    "num = 1\n",
    "while num<=100:\n",
    "    if num%2==0:\n",
    "        num+=1\n",
    "        continue\n",
    "    total+=num\n",
    "    num+=1\n",
    "print('1+3+5+...+99=%d'%(total))"
   ]
  },
  {
   "cell_type": "code",
   "execution_count": null,
   "metadata": {},
   "outputs": [],
   "source": [
    "# (e)\n",
    "total=0\n",
    "for i in range(2,101,2):\n",
    "    total+=i\n",
    "print('2+4+6+...+100 =',total)"
   ]
  },
  {
   "cell_type": "code",
   "execution_count": null,
   "metadata": {},
   "outputs": [],
   "source": [
    "# 4.\n",
    "total=0\n",
    "num=0\n",
    "while num<=100:\n",
    "    num+=1\n",
    "    if num%3!=0:\n",
    "        continue\n",
    "    total+=num\n",
    "print(\"total is\",total)"
   ]
  },
  {
   "cell_type": "code",
   "execution_count": null,
   "metadata": {},
   "outputs": [],
   "source": [
    "# 5.\n"
   ]
  },
  {
   "cell_type": "code",
   "execution_count": 7,
   "metadata": {},
   "outputs": [
    {
     "name": "stdout",
     "output_type": "stream",
     "text": [
      " 1  2  3  4  5  6  7  8  9 \n",
      " 2  4  6  8 10 12 14 16 18 \n",
      " 3  6  9 12 15 18 21 24 27 \n",
      " 4  8 12 16 20 24 28 32 36 \n",
      " 5 10 15 20 25 30 35 40 45 \n",
      " 6 12 18 24 30 36 42 48 54 \n",
      " 7 14 21 28 35 42 49 56 63 \n",
      " 8 16 24 32 40 48 56 64 72 \n",
      " 9 18 27 36 45 54 63 72 81 \n"
     ]
    }
   ],
   "source": [
    "# 6.\n",
    "for i in range(1,10):\n",
    "    for j in range(1,10):\n",
    "        print('%2d'%(i*j),end=' ')\n",
    "    print()"
   ]
  },
  {
   "cell_type": "code",
   "execution_count": 3,
   "metadata": {},
   "outputs": [
    {
     "name": "stdout",
     "output_type": "stream",
     "text": [
      "1 \n",
      "1 2 \n",
      "1 2 3 \n",
      "1 2 3 4 \n",
      "1 2 3 4 5 \n",
      "1 2 3 4 5 6 \n"
     ]
    }
   ],
   "source": [
    "# 7.\n",
    "# (a)\n",
    "for i in range (1,7):\n",
    "    for j in range (1,i+1):\n",
    "        print(j,end=\" \")\n",
    "    print(\"\")"
   ]
  },
  {
   "cell_type": "code",
   "execution_count": 11,
   "metadata": {},
   "outputs": [
    {
     "name": "stdout",
     "output_type": "stream",
     "text": [
      " 1 2 3 4 5 6\n",
      " 1 2 3 4 5\n",
      " 1 2 3 4\n",
      " 1 2 3\n",
      " 1 2\n",
      " 1\n",
      "\n"
     ]
    }
   ],
   "source": [
    "# (b)\n",
    "i = 6\n",
    "while i >=1:\n",
    "    j=1\n",
    "    while j <= i:\n",
    "        print('%2d'%(j), end = '')\n",
    "        j += 1\n",
    "    print()\n",
    "    i -= 1\n",
    "print()"
   ]
  },
  {
   "cell_type": "code",
   "execution_count": 10,
   "metadata": {},
   "outputs": [
    {
     "name": "stdout",
     "output_type": "stream",
     "text": [
      "********\n",
      "*******\n",
      "******\n",
      "*****\n",
      "****\n",
      "***\n",
      "**\n",
      "*\n",
      "\n"
     ]
    }
   ],
   "source": [
    "# (c)\n",
    "i = 8\n",
    "while i >=1:\n",
    "    j=1\n",
    "    while j <= i:\n",
    "        print('*', end = '')\n",
    "        j += 1\n",
    "    print()\n",
    "    i -= 1\n",
    "print()"
   ]
  },
  {
   "cell_type": "code",
   "execution_count": null,
   "metadata": {},
   "outputs": [],
   "source": [
    "# (d)"
   ]
  },
  {
   "cell_type": "code",
   "execution_count": 4,
   "metadata": {},
   "outputs": [
    {
     "name": "stdout",
     "output_type": "stream",
     "text": [
      "1*1= 1 2*1= 2 3*1= 3 4*1= 4 5*1= 5 6*1= 6 7*1= 7 8*1= 8 9*1= 9 \n",
      "1*2= 2 2*2= 4 3*2= 6 4*2= 8 5*2=10 6*2=12 7*2=14 8*2=16 9*2=18 \n",
      "1*3= 3 2*3= 6 3*3= 9 4*3=12 5*3=15 6*3=18 7*3=21 8*3=24 9*3=27 \n",
      "1*4= 4 2*4= 8 3*4=12 4*4=16 5*4=20 6*4=24 7*4=28 8*4=32 9*4=36 \n",
      "1*5= 5 2*5=10 3*5=15 4*5=20 5*5=25 6*5=30 7*5=35 8*5=40 9*5=45 \n",
      "1*6= 6 2*6=12 3*6=18 4*6=24 5*6=30 6*6=36 7*6=42 8*6=48 9*6=54 \n",
      "1*7= 7 2*7=14 3*7=21 4*7=28 5*7=35 6*7=42 7*7=49 8*7=56 9*7=63 \n",
      "1*8= 8 2*8=16 3*8=24 4*8=32 5*8=40 6*8=48 7*8=56 8*8=64 9*8=72 \n",
      "1*9= 9 2*9=18 3*9=27 4*9=36 5*9=45 6*9=54 7*9=63 8*9=72 9*9=81 \n"
     ]
    }
   ],
   "source": [
    "# 8.\n",
    "for i in range(1,10):\n",
    "    for j in range(1,10):\n",
    "        print('%d*%d=%2d'%(j,i,i*j),end =' ')\n",
    "    print()"
   ]
  },
  {
   "cell_type": "code",
   "execution_count": null,
   "metadata": {},
   "outputs": [],
   "source": [
    "# 9."
   ]
  },
  {
   "cell_type": "code",
   "execution_count": 142,
   "metadata": {},
   "outputs": [
    {
     "name": "stdout",
     "output_type": "stream",
     "text": [
      "#2: 37 不是3的倍數\n",
      "total = 37\n"
     ]
    }
   ],
   "source": [
    "# 10.\n",
    "import random\n",
    "total=0\n",
    "for i in range(1,10):\n",
    "    randNum=random.randint(1,46)\n",
    "    if randNum%3!=0:\n",
    "        print('#%d: %d 不是3的倍數'%(i,randNum))\n",
    "        total += randNum\n",
    "        break\n",
    "print('total = %d'%(total))"
   ]
  },
  {
   "cell_type": "code",
   "execution_count": null,
   "metadata": {},
   "outputs": [],
   "source": []
  }
 ],
 "metadata": {
  "kernelspec": {
   "display_name": "Python 3",
   "language": "python",
   "name": "python3"
  },
  "language_info": {
   "codemirror_mode": {
    "name": "ipython",
    "version": 3
   },
   "file_extension": ".py",
   "mimetype": "text/x-python",
   "name": "python",
   "nbconvert_exporter": "python",
   "pygments_lexer": "ipython3",
   "version": "3.8.3"
  }
 },
 "nbformat": 4,
 "nbformat_minor": 4
}
